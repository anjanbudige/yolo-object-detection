{
  "nbformat": 4,
  "nbformat_minor": 0,
  "metadata": {
    "colab": {
      "provenance": [],
      "gpuType": "T4"
    },
    "kernelspec": {
      "name": "python3",
      "display_name": "Python 3"
    },
    "language_info": {
      "name": "python"
    },
    "accelerator": "GPU"
  },
  "cells": [
    {
      "cell_type": "code",
      "execution_count": null,
      "metadata": {
        "id": "4IJK5vxecVu_"
      },
      "outputs": [],
      "source": [
        "# `Edit` -> `Notebook settings` -> `Hardware accelerator`, set it to `GPU`, and then click `Save`."
      ]
    },
    {
      "cell_type": "code",
      "source": [
        "!nvidia-smi"
      ],
      "metadata": {
        "colab": {
          "base_uri": "https://localhost:8080/"
        },
        "id": "ryVsT8l6c0n8",
        "outputId": "2e025ca2-f54d-45a7-f400-0582c1fc79e0"
      },
      "execution_count": 10,
      "outputs": [
        {
          "output_type": "stream",
          "name": "stdout",
          "text": [
            "Sat Apr 20 09:36:59 2024       \n",
            "+---------------------------------------------------------------------------------------+\n",
            "| NVIDIA-SMI 535.104.05             Driver Version: 535.104.05   CUDA Version: 12.2     |\n",
            "|-----------------------------------------+----------------------+----------------------+\n",
            "| GPU  Name                 Persistence-M | Bus-Id        Disp.A | Volatile Uncorr. ECC |\n",
            "| Fan  Temp   Perf          Pwr:Usage/Cap |         Memory-Usage | GPU-Util  Compute M. |\n",
            "|                                         |                      |               MIG M. |\n",
            "|=========================================+======================+======================|\n",
            "|   0  Tesla T4                       Off | 00000000:00:04.0 Off |                    0 |\n",
            "| N/A   34C    P8               9W /  70W |      3MiB / 15360MiB |      0%      Default |\n",
            "|                                         |                      |                  N/A |\n",
            "+-----------------------------------------+----------------------+----------------------+\n",
            "                                                                                         \n",
            "+---------------------------------------------------------------------------------------+\n",
            "| Processes:                                                                            |\n",
            "|  GPU   GI   CI        PID   Type   Process name                            GPU Memory |\n",
            "|        ID   ID                                                             Usage      |\n",
            "|=======================================================================================|\n",
            "|  No running processes found                                                           |\n",
            "+---------------------------------------------------------------------------------------+\n"
          ]
        }
      ]
    },
    {
      "cell_type": "code",
      "source": [
        "import torch\n",
        "\n",
        "# Check PyTorch GPU availability\n",
        "if torch.cuda.is_available():\n",
        "    print(f\"GPU Name: {torch.cuda.get_device_name(0)}\")\n",
        "    print(f\"GPU Is Available: {torch.cuda.is_available()}\")\n",
        "else:\n",
        "    print(\"GPU is not available.\")"
      ],
      "metadata": {
        "colab": {
          "base_uri": "https://localhost:8080/"
        },
        "id": "rB1xjpaTc19I",
        "outputId": "00f6accf-e7cb-4e1d-f068-9238bf3a7a30"
      },
      "execution_count": 11,
      "outputs": [
        {
          "output_type": "stream",
          "name": "stdout",
          "text": [
            "GPU Name: Tesla T4\n",
            "GPU Is Available: True\n"
          ]
        }
      ]
    },
    {
      "cell_type": "code",
      "source": [
        "!git clone https://github.com/WongKinYiu/yolov9.git"
      ],
      "metadata": {
        "id": "BWDH481Le23b",
        "colab": {
          "base_uri": "https://localhost:8080/"
        },
        "outputId": "b34ce69e-fa15-4c24-8d3f-0eeb4eeb0bce"
      },
      "execution_count": null,
      "outputs": [
        {
          "output_type": "stream",
          "name": "stdout",
          "text": [
            "Cloning into 'yolov9'...\n",
            "remote: Enumerating objects: 668, done.\u001b[K\n",
            "remote: Counting objects: 100% (47/47), done.\u001b[K\n",
            "remote: Compressing objects: 100% (40/40), done.\u001b[K\n",
            "remote: Total 668 (delta 24), reused 21 (delta 7), pack-reused 621\u001b[K\n",
            "Receiving objects: 100% (668/668), 3.24 MiB | 6.69 MiB/s, done.\n",
            "Resolving deltas: 100% (263/263), done.\n"
          ]
        }
      ]
    },
    {
      "cell_type": "code",
      "source": [
        "%cd yolov9"
      ],
      "metadata": {
        "colab": {
          "base_uri": "https://localhost:8080/"
        },
        "id": "oSoEv_IufODx",
        "outputId": "02ff9fb3-2918-4678-907f-5ee43798957a"
      },
      "execution_count": 15,
      "outputs": [
        {
          "output_type": "stream",
          "name": "stdout",
          "text": [
            "/content/gdrive/MyDrive/yolov9/yolov9\n"
          ]
        }
      ]
    },
    {
      "cell_type": "code",
      "source": [
        "# !pip install -r requirements.txt"
      ],
      "metadata": {
        "id": "O7qgSlIvfQ34"
      },
      "execution_count": 16,
      "outputs": []
    },
    {
      "cell_type": "markdown",
      "source": [],
      "metadata": {
        "id": "lIyIafWIc6nd"
      }
    },
    {
      "cell_type": "code",
      "source": [
        "!python detect.py --weights /content/gdrive/MyDrive/yolov9/gelan-c.pt --conf 0.5 --source \"/content/gdrive/MyDrive/yolov9/video2.mp4\" --device cpu"
      ],
      "metadata": {
        "colab": {
          "base_uri": "https://localhost:8080/"
        },
        "id": "FEq_uD-Mc7G1",
        "outputId": "a65cbf9b-05a7-43bd-ee86-9fc9d8bcfb9b"
      },
      "execution_count": null,
      "outputs": [
        {
          "output_type": "stream",
          "name": "stdout",
          "text": [
            "\u001b[34m\u001b[1mdetect: \u001b[0mweights=['/content/gdrive/MyDrive/yolov9/gelan-c.pt'], source=/content/gdrive/MyDrive/yolov9/video2.mp4, data=data/coco128.yaml, imgsz=[640, 640], conf_thres=0.5, iou_thres=0.45, max_det=1000, device=cpu, view_img=False, save_txt=False, save_conf=False, save_crop=False, nosave=False, classes=None, agnostic_nms=False, augment=False, visualize=False, update=False, project=runs/detect, name=exp, exist_ok=False, line_thickness=3, hide_labels=False, hide_conf=False, half=False, dnn=False, vid_stride=1\n",
            "YOLO 🚀 v0.1-89-g93f1a28 Python-3.10.12 torch-2.2.1+cu121 CPU\n",
            "\n",
            "Fusing layers... \n",
            "Model summary: 387 layers, 25288768 parameters, 0 gradients\n",
            "video 1/1 (1/163) /content/gdrive/MyDrive/yolov9/video2.mp4: 640x384 2 persons, 1 motorcycle, 1 truck, 1297.3ms\n",
            "video 1/1 (2/163) /content/gdrive/MyDrive/yolov9/video2.mp4: 640x384 2 persons, 1 motorcycle, 1 truck, 1301.9ms\n",
            "video 1/1 (3/163) /content/gdrive/MyDrive/yolov9/video2.mp4: 640x384 2 persons, 1 motorcycle, 1 truck, 1940.2ms\n",
            "video 1/1 (4/163) /content/gdrive/MyDrive/yolov9/video2.mp4: 640x384 2 persons, 1 motorcycle, 1 truck, 1607.2ms\n",
            "video 1/1 (5/163) /content/gdrive/MyDrive/yolov9/video2.mp4: 640x384 2 persons, 1 motorcycle, 1 truck, 1150.5ms\n",
            "video 1/1 (6/163) /content/gdrive/MyDrive/yolov9/video2.mp4: 640x384 2 persons, 1 motorcycle, 1 truck, 1141.1ms\n",
            "video 1/1 (7/163) /content/gdrive/MyDrive/yolov9/video2.mp4: 640x384 1 person, 1 motorcycle, 1 truck, 1135.8ms\n",
            "video 1/1 (8/163) /content/gdrive/MyDrive/yolov9/video2.mp4: 640x384 1 person, 1 motorcycle, 1 truck, 1126.2ms\n",
            "video 1/1 (9/163) /content/gdrive/MyDrive/yolov9/video2.mp4: 640x384 2 persons, 1 motorcycle, 1 truck, 1138.8ms\n",
            "video 1/1 (10/163) /content/gdrive/MyDrive/yolov9/video2.mp4: 640x384 1 person, 1 motorcycle, 1 truck, 1175.1ms\n",
            "video 1/1 (11/163) /content/gdrive/MyDrive/yolov9/video2.mp4: 640x384 2 persons, 1 motorcycle, 1 truck, 1137.2ms\n",
            "video 1/1 (12/163) /content/gdrive/MyDrive/yolov9/video2.mp4: 640x384 2 persons, 1 motorcycle, 1 truck, 1161.7ms\n",
            "video 1/1 (13/163) /content/gdrive/MyDrive/yolov9/video2.mp4: 640x384 2 persons, 1 motorcycle, 1 truck, 1633.6ms\n",
            "video 1/1 (14/163) /content/gdrive/MyDrive/yolov9/video2.mp4: 640x384 2 persons, 1 motorcycle, 1 truck, 1894.2ms\n",
            "video 1/1 (15/163) /content/gdrive/MyDrive/yolov9/video2.mp4: 640x384 2 persons, 1 motorcycle, 1 truck, 1234.0ms\n",
            "video 1/1 (16/163) /content/gdrive/MyDrive/yolov9/video2.mp4: 640x384 1 person, 1 motorcycle, 1 truck, 1156.0ms\n",
            "video 1/1 (17/163) /content/gdrive/MyDrive/yolov9/video2.mp4: 640x384 1 person, 1 motorcycle, 1 truck, 1131.7ms\n",
            "video 1/1 (18/163) /content/gdrive/MyDrive/yolov9/video2.mp4: 640x384 1 person, 1 motorcycle, 1 truck, 1151.2ms\n",
            "video 1/1 (19/163) /content/gdrive/MyDrive/yolov9/video2.mp4: 640x384 1 person, 1 motorcycle, 1 truck, 1161.7ms\n",
            "video 1/1 (20/163) /content/gdrive/MyDrive/yolov9/video2.mp4: 640x384 1 person, 1 motorcycle, 1 truck, 1146.1ms\n",
            "video 1/1 (21/163) /content/gdrive/MyDrive/yolov9/video2.mp4: 640x384 1 person, 1 motorcycle, 1 truck, 1184.2ms\n",
            "video 1/1 (22/163) /content/gdrive/MyDrive/yolov9/video2.mp4: 640x384 1 person, 1 motorcycle, 1 truck, 1192.8ms\n",
            "video 1/1 (23/163) /content/gdrive/MyDrive/yolov9/video2.mp4: 640x384 1 person, 1 motorcycle, 1 truck, 1407.1ms\n",
            "video 1/1 (24/163) /content/gdrive/MyDrive/yolov9/video2.mp4: 640x384 1 person, 1 motorcycle, 1 truck, 1932.6ms\n",
            "video 1/1 (25/163) /content/gdrive/MyDrive/yolov9/video2.mp4: 640x384 1 person, 1 motorcycle, 1 truck, 1520.0ms\n",
            "video 1/1 (26/163) /content/gdrive/MyDrive/yolov9/video2.mp4: 640x384 1 person, 1 motorcycle, 1 truck, 1174.4ms\n",
            "video 1/1 (27/163) /content/gdrive/MyDrive/yolov9/video2.mp4: 640x384 1 person, 1 motorcycle, 1 truck, 1155.1ms\n",
            "video 1/1 (28/163) /content/gdrive/MyDrive/yolov9/video2.mp4: 640x384 1 person, 1 motorcycle, 1 truck, 1167.4ms\n",
            "video 1/1 (29/163) /content/gdrive/MyDrive/yolov9/video2.mp4: 640x384 1 person, 2 motorcycles, 1 truck, 1160.7ms\n",
            "video 1/1 (30/163) /content/gdrive/MyDrive/yolov9/video2.mp4: 640x384 2 persons, 2 motorcycles, 1 truck, 1148.9ms\n",
            "video 1/1 (31/163) /content/gdrive/MyDrive/yolov9/video2.mp4: 640x384 2 persons, 2 motorcycles, 1 truck, 1137.8ms\n",
            "video 1/1 (32/163) /content/gdrive/MyDrive/yolov9/video2.mp4: 640x384 3 persons, 2 motorcycles, 1 truck, 1147.7ms\n",
            "video 1/1 (33/163) /content/gdrive/MyDrive/yolov9/video2.mp4: 640x384 2 persons, 2 motorcycles, 1 truck, 1163.9ms\n",
            "video 1/1 (34/163) /content/gdrive/MyDrive/yolov9/video2.mp4: 640x384 2 persons, 2 motorcycles, 1 truck, 1884.8ms\n",
            "video 1/1 (35/163) /content/gdrive/MyDrive/yolov9/video2.mp4: 640x384 2 persons, 2 motorcycles, 1687.8ms\n",
            "video 1/1 (36/163) /content/gdrive/MyDrive/yolov9/video2.mp4: 640x384 1 person, 2 motorcycles, 1150.0ms\n",
            "video 1/1 (37/163) /content/gdrive/MyDrive/yolov9/video2.mp4: 640x384 3 persons, 2 motorcycles, 1154.7ms\n",
            "video 1/1 (38/163) /content/gdrive/MyDrive/yolov9/video2.mp4: 640x384 2 persons, 2 motorcycles, 1 truck, 1140.4ms\n",
            "video 1/1 (39/163) /content/gdrive/MyDrive/yolov9/video2.mp4: 640x384 1 person, 2 motorcycles, 1 truck, 1131.9ms\n",
            "video 1/1 (40/163) /content/gdrive/MyDrive/yolov9/video2.mp4: 640x384 3 persons, 2 motorcycles, 1 truck, 1132.3ms\n",
            "video 1/1 (41/163) /content/gdrive/MyDrive/yolov9/video2.mp4: 640x384 2 persons, 2 motorcycles, 1 truck, 1152.2ms\n",
            "video 1/1 (42/163) /content/gdrive/MyDrive/yolov9/video2.mp4: 640x384 1 person, 2 motorcycles, 1 truck, 1220.0ms\n",
            "video 1/1 (43/163) /content/gdrive/MyDrive/yolov9/video2.mp4: 640x384 1 person, 2 motorcycles, 1 truck, 1157.2ms\n",
            "video 1/1 (44/163) /content/gdrive/MyDrive/yolov9/video2.mp4: 640x384 2 motorcycles, 1 truck, 1708.4ms\n",
            "video 1/1 (45/163) /content/gdrive/MyDrive/yolov9/video2.mp4: 640x384 2 motorcycles, 1 truck, 1922.0ms\n",
            "video 1/1 (46/163) /content/gdrive/MyDrive/yolov9/video2.mp4: 640x384 1 person, 1 motorcycle, 1226.1ms\n",
            "video 1/1 (47/163) /content/gdrive/MyDrive/yolov9/video2.mp4: 640x384 1 motorcycle, 1 truck, 1159.8ms\n",
            "video 1/1 (48/163) /content/gdrive/MyDrive/yolov9/video2.mp4: 640x384 1 person, 1 motorcycle, 1180.4ms\n",
            "video 1/1 (49/163) /content/gdrive/MyDrive/yolov9/video2.mp4: 640x384 1 person, 1 motorcycle, 1168.7ms\n",
            "video 1/1 (50/163) /content/gdrive/MyDrive/yolov9/video2.mp4: 640x384 1 person, 1 motorcycle, 1171.8ms\n",
            "video 1/1 (51/163) /content/gdrive/MyDrive/yolov9/video2.mp4: 640x384 1 person, 1 motorcycle, 1143.1ms\n",
            "video 1/1 (52/163) /content/gdrive/MyDrive/yolov9/video2.mp4: 640x384 1 person, 1 motorcycle, 1 truck, 1136.4ms\n",
            "video 1/1 (53/163) /content/gdrive/MyDrive/yolov9/video2.mp4: 640x384 1 person, 1 motorcycle, 1 truck, 1150.0ms\n",
            "video 1/1 (54/163) /content/gdrive/MyDrive/yolov9/video2.mp4: 640x384 1 person, 1 motorcycle, 1 truck, 1701.7ms\n",
            "video 1/1 (55/163) /content/gdrive/MyDrive/yolov9/video2.mp4: 640x384 1 person, 1 motorcycle, 1973.9ms\n",
            "video 1/1 (56/163) /content/gdrive/MyDrive/yolov9/video2.mp4: 640x384 1 person, 1 motorcycle, 2106.2ms\n",
            "video 1/1 (57/163) /content/gdrive/MyDrive/yolov9/video2.mp4: 640x384 1 person, 1 motorcycle, 1523.5ms\n",
            "video 1/1 (58/163) /content/gdrive/MyDrive/yolov9/video2.mp4: 640x384 1 person, 1 motorcycle, 1170.4ms\n",
            "video 1/1 (59/163) /content/gdrive/MyDrive/yolov9/video2.mp4: 640x384 1 person, 1 motorcycle, 1154.0ms\n",
            "video 1/1 (60/163) /content/gdrive/MyDrive/yolov9/video2.mp4: 640x384 1 person, 1 car, 1 motorcycle, 1132.6ms\n",
            "video 1/1 (61/163) /content/gdrive/MyDrive/yolov9/video2.mp4: 640x384 1 person, 1 motorcycle, 1137.5ms\n",
            "video 1/1 (62/163) /content/gdrive/MyDrive/yolov9/video2.mp4: 640x384 1 person, 1 car, 1 motorcycle, 1157.6ms\n",
            "video 1/1 (63/163) /content/gdrive/MyDrive/yolov9/video2.mp4: 640x384 1 person, 1 car, 1 motorcycle, 1144.6ms\n",
            "video 1/1 (64/163) /content/gdrive/MyDrive/yolov9/video2.mp4: 640x384 1 person, 1 car, 1 motorcycle, 1148.1ms\n",
            "video 1/1 (65/163) /content/gdrive/MyDrive/yolov9/video2.mp4: 640x384 1 person, 1 motorcycle, 1 truck, 1148.9ms\n",
            "video 1/1 (66/163) /content/gdrive/MyDrive/yolov9/video2.mp4: 640x384 1 person, 1 motorcycle, 1882.8ms\n",
            "video 1/1 (67/163) /content/gdrive/MyDrive/yolov9/video2.mp4: 640x384 1 motorcycle, 2106.9ms\n",
            "video 1/1 (68/163) /content/gdrive/MyDrive/yolov9/video2.mp4: 640x384 1 motorcycle, 1 truck, 1885.9ms\n",
            "video 1/1 (69/163) /content/gdrive/MyDrive/yolov9/video2.mp4: 640x384 1 motorcycle, 1 truck, 1491.6ms\n",
            "video 1/1 (70/163) /content/gdrive/MyDrive/yolov9/video2.mp4: 640x384 1 motorcycle, 1 truck, 1170.6ms\n",
            "video 1/1 (71/163) /content/gdrive/MyDrive/yolov9/video2.mp4: 640x384 1 motorcycle, 1 truck, 1177.2ms\n",
            "video 1/1 (72/163) /content/gdrive/MyDrive/yolov9/video2.mp4: 640x384 1 motorcycle, 1 truck, 1178.4ms\n",
            "video 1/1 (73/163) /content/gdrive/MyDrive/yolov9/video2.mp4: 640x384 1 motorcycle, 1 truck, 1144.3ms\n",
            "video 1/1 (74/163) /content/gdrive/MyDrive/yolov9/video2.mp4: 640x384 1 motorcycle, 1 truck, 1152.9ms\n",
            "video 1/1 (75/163) /content/gdrive/MyDrive/yolov9/video2.mp4: 640x384 1 person, 1 motorcycle, 1 truck, 1388.9ms\n",
            "video 1/1 (76/163) /content/gdrive/MyDrive/yolov9/video2.mp4: 640x384 1 person, 1 motorcycle, 1 truck, 1882.7ms\n",
            "video 1/1 (77/163) /content/gdrive/MyDrive/yolov9/video2.mp4: 640x384 1 person, 1 motorcycle, 1 truck, 1483.6ms\n",
            "video 1/1 (78/163) /content/gdrive/MyDrive/yolov9/video2.mp4: 640x384 1 motorcycle, 1 truck, 1152.5ms\n",
            "video 1/1 (79/163) /content/gdrive/MyDrive/yolov9/video2.mp4: 640x384 1 person, 1 motorcycle, 1157.4ms\n",
            "video 1/1 (80/163) /content/gdrive/MyDrive/yolov9/video2.mp4: 640x384 1 person, 1 motorcycle, 1 truck, 1171.3ms\n",
            "video 1/1 (81/163) /content/gdrive/MyDrive/yolov9/video2.mp4: 640x384 1 motorcycle, 1 truck, 1152.8ms\n",
            "video 1/1 (82/163) /content/gdrive/MyDrive/yolov9/video2.mp4: 640x384 1 motorcycle, 1148.8ms\n",
            "video 1/1 (83/163) /content/gdrive/MyDrive/yolov9/video2.mp4: 640x384 1 motorcycle, 1157.4ms\n",
            "video 1/1 (84/163) /content/gdrive/MyDrive/yolov9/video2.mp4: 640x384 (no detections), 1162.4ms\n",
            "video 1/1 (85/163) /content/gdrive/MyDrive/yolov9/video2.mp4: 640x384 1 truck, 1155.0ms\n",
            "video 1/1 (86/163) /content/gdrive/MyDrive/yolov9/video2.mp4: 640x384 1 truck, 1864.5ms\n",
            "video 1/1 (87/163) /content/gdrive/MyDrive/yolov9/video2.mp4: 640x384 1 truck, 1735.0ms\n",
            "video 1/1 (88/163) /content/gdrive/MyDrive/yolov9/video2.mp4: 640x384 1 truck, 1175.5ms\n",
            "video 1/1 (89/163) /content/gdrive/MyDrive/yolov9/video2.mp4: 640x384 1 truck, 1157.3ms\n",
            "video 1/1 (90/163) /content/gdrive/MyDrive/yolov9/video2.mp4: 640x384 1 truck, 1183.5ms\n",
            "video 1/1 (91/163) /content/gdrive/MyDrive/yolov9/video2.mp4: 640x384 (no detections), 1156.7ms\n",
            "video 1/1 (92/163) /content/gdrive/MyDrive/yolov9/video2.mp4: 640x384 1 truck, 1155.5ms\n",
            "video 1/1 (93/163) /content/gdrive/MyDrive/yolov9/video2.mp4: 640x384 1 truck, 1191.4ms\n",
            "video 1/1 (94/163) /content/gdrive/MyDrive/yolov9/video2.mp4: 640x384 1 truck, 1189.1ms\n",
            "video 1/1 (95/163) /content/gdrive/MyDrive/yolov9/video2.mp4: 640x384 1 truck, 1143.9ms\n",
            "video 1/1 (96/163) /content/gdrive/MyDrive/yolov9/video2.mp4: 640x384 1 truck, 1713.0ms\n",
            "video 1/1 (97/163) /content/gdrive/MyDrive/yolov9/video2.mp4: 640x384 1 truck, 1891.6ms\n",
            "video 1/1 (98/163) /content/gdrive/MyDrive/yolov9/video2.mp4: 640x384 1 truck, 1150.7ms\n",
            "video 1/1 (99/163) /content/gdrive/MyDrive/yolov9/video2.mp4: 640x384 1 truck, 1169.5ms\n",
            "video 1/1 (100/163) /content/gdrive/MyDrive/yolov9/video2.mp4: 640x384 1 truck, 1154.1ms\n",
            "video 1/1 (101/163) /content/gdrive/MyDrive/yolov9/video2.mp4: 640x384 1 truck, 1149.2ms\n",
            "video 1/1 (102/163) /content/gdrive/MyDrive/yolov9/video2.mp4: 640x384 1 truck, 1181.5ms\n",
            "video 1/1 (103/163) /content/gdrive/MyDrive/yolov9/video2.mp4: 640x384 1 truck, 1135.3ms\n",
            "video 1/1 (104/163) /content/gdrive/MyDrive/yolov9/video2.mp4: 640x384 1 truck, 1156.1ms\n",
            "video 1/1 (105/163) /content/gdrive/MyDrive/yolov9/video2.mp4: 640x384 1 truck, 1151.4ms\n",
            "video 1/1 (106/163) /content/gdrive/MyDrive/yolov9/video2.mp4: 640x384 1 truck, 1447.4ms\n",
            "video 1/1 (107/163) /content/gdrive/MyDrive/yolov9/video2.mp4: 640x384 1 car, 1 truck, 1865.9ms\n",
            "video 1/1 (108/163) /content/gdrive/MyDrive/yolov9/video2.mp4: 640x384 1 truck, 1389.6ms\n",
            "video 1/1 (109/163) /content/gdrive/MyDrive/yolov9/video2.mp4: 640x384 1 truck, 1139.2ms\n",
            "video 1/1 (110/163) /content/gdrive/MyDrive/yolov9/video2.mp4: 640x384 1 truck, 1151.7ms\n",
            "video 1/1 (111/163) /content/gdrive/MyDrive/yolov9/video2.mp4: 640x384 1 truck, 1145.2ms\n",
            "video 1/1 (112/163) /content/gdrive/MyDrive/yolov9/video2.mp4: 640x384 1 car, 1 truck, 1166.7ms\n",
            "video 1/1 (113/163) /content/gdrive/MyDrive/yolov9/video2.mp4: 640x384 1 truck, 1191.4ms\n",
            "video 1/1 (114/163) /content/gdrive/MyDrive/yolov9/video2.mp4: 640x384 1 car, 1 truck, 1146.0ms\n",
            "video 1/1 (115/163) /content/gdrive/MyDrive/yolov9/video2.mp4: 640x384 1 truck, 1138.4ms\n",
            "video 1/1 (116/163) /content/gdrive/MyDrive/yolov9/video2.mp4: 640x384 1 car, 1 truck, 1177.5ms\n",
            "video 1/1 (117/163) /content/gdrive/MyDrive/yolov9/video2.mp4: 640x384 1 car, 1 truck, 1963.0ms\n",
            "video 1/1 (118/163) /content/gdrive/MyDrive/yolov9/video2.mp4: 640x384 1 car, 1 truck, 1616.8ms\n",
            "video 1/1 (119/163) /content/gdrive/MyDrive/yolov9/video2.mp4: 640x384 1 car, 1 truck, 1141.5ms\n",
            "video 1/1 (120/163) /content/gdrive/MyDrive/yolov9/video2.mp4: 640x384 1 truck, 1124.8ms\n",
            "video 1/1 (121/163) /content/gdrive/MyDrive/yolov9/video2.mp4: 640x384 1 truck, 1139.3ms\n",
            "video 1/1 (122/163) /content/gdrive/MyDrive/yolov9/video2.mp4: 640x384 1 truck, 1142.0ms\n",
            "video 1/1 (123/163) /content/gdrive/MyDrive/yolov9/video2.mp4: 640x384 1 truck, 1208.4ms\n",
            "video 1/1 (124/163) /content/gdrive/MyDrive/yolov9/video2.mp4: 640x384 1 truck, 1205.0ms\n",
            "video 1/1 (125/163) /content/gdrive/MyDrive/yolov9/video2.mp4: 640x384 1 truck, 1172.0ms\n",
            "video 1/1 (126/163) /content/gdrive/MyDrive/yolov9/video2.mp4: 640x384 1 truck, 1148.5ms\n",
            "video 1/1 (127/163) /content/gdrive/MyDrive/yolov9/video2.mp4: 640x384 1 truck, 1690.9ms\n",
            "video 1/1 (128/163) /content/gdrive/MyDrive/yolov9/video2.mp4: 640x384 1 truck, 1867.7ms\n",
            "video 1/1 (129/163) /content/gdrive/MyDrive/yolov9/video2.mp4: 640x384 1 truck, 1218.2ms\n",
            "video 1/1 (130/163) /content/gdrive/MyDrive/yolov9/video2.mp4: 640x384 1 truck, 1140.7ms\n",
            "video 1/1 (131/163) /content/gdrive/MyDrive/yolov9/video2.mp4: 640x384 1 truck, 1143.5ms\n",
            "video 1/1 (132/163) /content/gdrive/MyDrive/yolov9/video2.mp4: 640x384 1 truck, 1129.0ms\n",
            "video 1/1 (133/163) /content/gdrive/MyDrive/yolov9/video2.mp4: 640x384 1 truck, 1138.7ms\n",
            "video 1/1 (134/163) /content/gdrive/MyDrive/yolov9/video2.mp4: 640x384 1 truck, 1154.1ms\n",
            "video 1/1 (135/163) /content/gdrive/MyDrive/yolov9/video2.mp4: 640x384 1 truck, 1165.3ms\n",
            "video 1/1 (136/163) /content/gdrive/MyDrive/yolov9/video2.mp4: 640x384 1 truck, 1137.9ms\n",
            "video 1/1 (137/163) /content/gdrive/MyDrive/yolov9/video2.mp4: 640x384 1 truck, 1418.0ms\n",
            "video 1/1 (138/163) /content/gdrive/MyDrive/yolov9/video2.mp4: 640x384 1 motorcycle, 1 truck, 1882.8ms\n",
            "video 1/1 (139/163) /content/gdrive/MyDrive/yolov9/video2.mp4: 640x384 1 motorcycle, 1 truck, 1538.5ms\n",
            "video 1/1 (140/163) /content/gdrive/MyDrive/yolov9/video2.mp4: 640x384 1 motorcycle, 1 truck, 1240.2ms\n",
            "video 1/1 (141/163) /content/gdrive/MyDrive/yolov9/video2.mp4: 640x384 1 motorcycle, 1152.1ms\n",
            "video 1/1 (142/163) /content/gdrive/MyDrive/yolov9/video2.mp4: 640x384 1 person, 1 motorcycle, 1143.2ms\n",
            "video 1/1 (143/163) /content/gdrive/MyDrive/yolov9/video2.mp4: 640x384 1 person, 1 motorcycle, 1120.2ms\n",
            "video 1/1 (144/163) /content/gdrive/MyDrive/yolov9/video2.mp4: 640x384 1 person, 1 motorcycle, 1135.8ms\n",
            "video 1/1 (145/163) /content/gdrive/MyDrive/yolov9/video2.mp4: 640x384 2 persons, 1 motorcycle, 1168.0ms\n",
            "video 1/1 (146/163) /content/gdrive/MyDrive/yolov9/video2.mp4: 640x384 1 person, 1 motorcycle, 1130.4ms\n",
            "video 1/1 (147/163) /content/gdrive/MyDrive/yolov9/video2.mp4: 640x384 2 persons, 1 motorcycle, 1147.9ms\n",
            "video 1/1 (148/163) /content/gdrive/MyDrive/yolov9/video2.mp4: 640x384 2 persons, 1 motorcycle, 1816.6ms\n",
            "video 1/1 (149/163) /content/gdrive/MyDrive/yolov9/video2.mp4: 640x384 1 person, 1 motorcycle, 1750.9ms\n",
            "video 1/1 (150/163) /content/gdrive/MyDrive/yolov9/video2.mp4: 640x384 2 persons, 1 motorcycle, 1123.4ms\n",
            "video 1/1 (151/163) /content/gdrive/MyDrive/yolov9/video2.mp4: 640x384 2 persons, 1 motorcycle, 1138.3ms\n",
            "video 1/1 (152/163) /content/gdrive/MyDrive/yolov9/video2.mp4: 640x384 2 persons, 1 motorcycle, 1 truck, 1142.7ms\n",
            "video 1/1 (153/163) /content/gdrive/MyDrive/yolov9/video2.mp4: 640x384 2 persons, 1 motorcycle, 1 truck, 1156.6ms\n",
            "video 1/1 (154/163) /content/gdrive/MyDrive/yolov9/video2.mp4: 640x384 2 persons, 1 motorcycle, 1129.9ms\n",
            "video 1/1 (155/163) /content/gdrive/MyDrive/yolov9/video2.mp4: 640x384 2 persons, 1 motorcycle, 1116.8ms\n",
            "video 1/1 (156/163) /content/gdrive/MyDrive/yolov9/video2.mp4: 640x384 1 person, 1 motorcycle, 1 truck, 1128.7ms\n",
            "video 1/1 (157/163) /content/gdrive/MyDrive/yolov9/video2.mp4: 640x384 2 persons, 1 motorcycle, 1175.9ms\n",
            "video 1/1 (158/163) /content/gdrive/MyDrive/yolov9/video2.mp4: 640x384 1 person, 1 motorcycle, 1457.1ms\n",
            "video 1/1 (159/163) /content/gdrive/MyDrive/yolov9/video2.mp4: 640x384 2 persons, 1 motorcycle, 1 truck, 1862.9ms\n",
            "video 1/1 (160/163) /content/gdrive/MyDrive/yolov9/video2.mp4: 640x384 2 persons, 1 motorcycle, 1 truck, 1370.4ms\n",
            "video 1/1 (161/163) /content/gdrive/MyDrive/yolov9/video2.mp4: 640x384 2 persons, 1 motorcycle, 1145.9ms\n",
            "video 1/1 (162/163) /content/gdrive/MyDrive/yolov9/video2.mp4: 640x384 2 persons, 1 motorcycle, 1164.4ms\n",
            "video 1/1 (163/163) /content/gdrive/MyDrive/yolov9/video2.mp4: 640x384 2 persons, 1 motorcycle, 1172.8ms\n",
            "Speed: 0.6ms pre-process, 1301.4ms inference, 1.0ms NMS per image at shape (1, 3, 640, 640)\n",
            "Results saved to \u001b[1mruns/detect/exp27\u001b[0m\n"
          ]
        }
      ]
    }
  ]
}